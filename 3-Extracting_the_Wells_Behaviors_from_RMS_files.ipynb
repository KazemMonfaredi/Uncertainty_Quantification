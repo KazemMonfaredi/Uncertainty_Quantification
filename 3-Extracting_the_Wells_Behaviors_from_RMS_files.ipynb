{
 "cells": [
  {
   "cell_type": "code",
   "execution_count": 72,
   "id": "7d738209",
   "metadata": {},
   "outputs": [],
   "source": [
    "import pandas as pd\n",
    "import numpy as np\n",
    "Real_M=list(pd.read_csv(\"Initial_Real_For_ML\", header=None)[0])\n",
    "Real=list(np.array(Real_M)+1)\n",
    "Real_ML=[\"HM_200\"]+Real\n",
    "Days=list(pd.read_csv(\"Days\", header=None)[0])\n"
   ]
  },
  {
   "cell_type": "code",
   "execution_count": 94,
   "id": "062b60b0",
   "metadata": {
    "scrolled": false
   },
   "outputs": [
    {
     "name": "stderr",
     "output_type": "stream",
     "text": [
      "C:\\Users\\kmonfaredi\\Anaconda3\\lib\\site-packages\\IPython\\core\\interactiveshell.py:3165: DtypeWarning: Columns (0,1,2,3,5,6,7,8,9,10,11) have mixed types.Specify dtype option on import or set low_memory=False.\n",
      "  has_raised = await self.run_ast_nodes(code_ast.body, cell_name,\n",
      "C:\\Users\\kmonfaredi\\Anaconda3\\lib\\site-packages\\IPython\\core\\interactiveshell.py:3165: DtypeWarning: Columns (5,6,7,8,9,10) have mixed types.Specify dtype option on import or set low_memory=False.\n",
      "  has_raised = await self.run_ast_nodes(code_ast.body, cell_name,\n"
     ]
    }
   ],
   "source": [
    "## Extracting the Wells Behavior\n",
    "indx=[]\n",
    "indx_BP9=[]\n",
    "indx_GPR=[]\n",
    "WOPR_KG_02=[]\n",
    "WOPR_KG_04=[]\n",
    "WOPR_KG_50=[]\n",
    "WOPR_KG_56=[]\n",
    "WOPR_KG_58=[]\n",
    "\n",
    "WGPR_KG_02=[]\n",
    "WGPR_KG_04=[]\n",
    "WGPR_KG_50=[]\n",
    "WGPR_KG_56=[]\n",
    "WGPR_KG_58=[]\n",
    "\n",
    "WBP9_KG_02=[]\n",
    "WBP9_KG_04=[]\n",
    "WBP9_KG_50=[]\n",
    "WBP9_KG_56=[]\n",
    "WBP9_KG_58=[]\n",
    "\n",
    "\n",
    "m=0\n",
    "for item in Real_ML:\n",
    "    name=[str(item),\".RSM\"]\n",
    "    names=\"\".join(name)\n",
    "    a=pd.read_table(names, header=None)\n",
    "\n",
    "    w=(a[a[4]=='WOPR        '].index.tolist())\n",
    "    index1=[]\n",
    "    for i in Days:\n",
    "        index1.append(a[a[1]==str(i)].index.tolist())\n",
    "    for j in range(0,len(Days)):\n",
    "        indx.append(index1[j][10])\n",
    "        indx_BP9.append(index1[j][1])\n",
    "        indx_GPR.append(index1[j][11])   \n",
    "    for k in indx[len(Days)*m:len(Days)*m+len(Days)]:\n",
    "        WOPR_KG_02.append(float(a[3][k]))\n",
    "        WOPR_KG_04.append(float(a[4][k]))\n",
    "        WOPR_KG_50.append(float(a[5][k]))\n",
    "        WOPR_KG_56.append(float(a[6][k]))\n",
    "        WOPR_KG_58.append(float(a[7][k]))\n",
    "    for q in indx_BP9[len(Days)*m:len(Days)*m+len(Days)]:\n",
    "        WBP9_KG_02.append(float(a[6][q]))\n",
    "        WBP9_KG_04.append(float(a[7][q]))\n",
    "        WBP9_KG_50.append(float(a[8][q]))\n",
    "        WBP9_KG_56.append(float(a[9][q]))\n",
    "        WBP9_KG_58.append(float(a[10][q]))\n",
    "    for s in indx_GPR[len(Days)*m:len(Days)*m+len(Days)]:\n",
    "        WGPR_KG_02.append(float(a[2][s]))\n",
    "        WGPR_KG_04.append(float(a[3][s]))\n",
    "        WGPR_KG_50.append(float(a[4][s]))\n",
    "        WGPR_KG_56.append(float(a[5][s]))\n",
    "        WGPR_KG_58.append(float(a[6][s]))\n",
    "    m+=1\n"
   ]
  },
  {
   "cell_type": "code",
   "execution_count": 95,
   "id": "58d629ca",
   "metadata": {
    "scrolled": true
   },
   "outputs": [],
   "source": [
    "WOPR_KG_02=np.transpose(np.reshape(WOPR_KG_02,(61,len(Days))))\n",
    "WOPR_KG_04=np.transpose(np.reshape(WOPR_KG_04,(61,len(Days))))\n",
    "WOPR_KG_50=np.transpose(np.reshape(WOPR_KG_50,(61,len(Days))))\n",
    "WOPR_KG_56=np.transpose(np.reshape(WOPR_KG_56,(61,len(Days))))\n",
    "WOPR_KG_58=np.transpose(np.reshape(WOPR_KG_58,(61,len(Days))))\n",
    "\n",
    "WGPR_KG_02=np.transpose(np.reshape(WGPR_KG_02,(61,len(Days))))\n",
    "WGPR_KG_04=np.transpose(np.reshape(WGPR_KG_04,(61,len(Days))))\n",
    "WGPR_KG_50=np.transpose(np.reshape(WGPR_KG_50,(61,len(Days))))\n",
    "WGPR_KG_56=np.transpose(np.reshape(WGPR_KG_56,(61,len(Days))))\n",
    "WGPR_KG_58=np.transpose(np.reshape(WGPR_KG_58,(61,len(Days))))\n",
    "\n",
    "\n",
    "WBP9_KG_02=np.transpose(np.reshape(WBP9_KG_02,(61,len(Days))))\n",
    "WBP9_KG_04=np.transpose(np.reshape(WBP9_KG_04,(61,len(Days))))\n",
    "WBP9_KG_50=np.transpose(np.reshape(WBP9_KG_50,(61,len(Days))))\n",
    "WBP9_KG_56=np.transpose(np.reshape(WBP9_KG_56,(61,len(Days))))\n",
    "WBP9_KG_58=np.transpose(np.reshape(WBP9_KG_58,(61,len(Days))))\n",
    "\n",
    "\n",
    "np.savetxt(\"WOPR_KG_02.csv\" , WOPR_KG_02 , delimiter =\", \", fmt ='% s') \n",
    "np.savetxt(\"WOPR_KG_04.csv\" , WOPR_KG_04 , delimiter =\", \", fmt ='% s') \n",
    "np.savetxt(\"WOPR_KG_50.csv\" , WOPR_KG_50 , delimiter =\", \", fmt ='% s') \n",
    "np.savetxt(\"WOPR_KG_56.csv\" , WOPR_KG_56 , delimiter =\", \", fmt ='% s') \n",
    "np.savetxt(\"WOPR_KG_58.csv\" , WOPR_KG_58 , delimiter =\", \", fmt ='% s') \n",
    "\n",
    "\n",
    "np.savetxt(\"WGPR_KG_02.csv\" , WGPR_KG_02 , delimiter =\", \", fmt ='% s') \n",
    "np.savetxt(\"WGPR_KG_04.csv\" , WGPR_KG_04 , delimiter =\", \", fmt ='% s') \n",
    "np.savetxt(\"WGPR_KG_50.csv\" , WGPR_KG_50 , delimiter =\", \", fmt ='% s') \n",
    "np.savetxt(\"WGPR_KG_56.csv\" , WGPR_KG_56 , delimiter =\", \", fmt ='% s') \n",
    "np.savetxt(\"WGPR_KG_58.csv\" , WGPR_KG_58 , delimiter =\", \", fmt ='% s') \n",
    "\n",
    "\n",
    "np.savetxt(\"WBP9_KG_02.csv\" , WBP9_KG_02 , delimiter =\", \", fmt ='% s') \n",
    "np.savetxt(\"WBP9_KG_04.csv\" , WBP9_KG_04 , delimiter =\", \", fmt ='% s') \n",
    "np.savetxt(\"WBP9_KG_50.csv\" , WBP9_KG_50 , delimiter =\", \", fmt ='% s')\n",
    "np.savetxt(\"WBP9_KG_56.csv\" , WBP9_KG_56 , delimiter =\", \", fmt ='% s') \n",
    "np.savetxt(\"WBP9_KG_58.csv\" , WBP9_KG_58 , delimiter =\", \", fmt ='% s') "
   ]
  }
 ],
 "metadata": {
  "kernelspec": {
   "display_name": "Python 3",
   "language": "python",
   "name": "python3"
  },
  "language_info": {
   "codemirror_mode": {
    "name": "ipython",
    "version": 3
   },
   "file_extension": ".py",
   "mimetype": "text/x-python",
   "name": "python",
   "nbconvert_exporter": "python",
   "pygments_lexer": "ipython3",
   "version": "3.8.8"
  }
 },
 "nbformat": 4,
 "nbformat_minor": 5
}
