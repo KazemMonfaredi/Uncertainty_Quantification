{
 "cells": [
  {
   "cell_type": "code",
   "execution_count": 22,
   "id": "af42b5ba",
   "metadata": {},
   "outputs": [],
   "source": [
    "import numpy as np\n",
    "import pandas as pd\n",
    "import matplotlib.pyplot as plt\n",
    "Realization_Feat=pd.DataFrame()\n",
    "for items in [\"02\",\"04\",\"50\",\"56\",\"58\"]:\n",
    "    ave_perm_KG=\"Ave_Perm_KG_\"+items+\".csv\"\n",
    "    ave_perm_phi_KG=\"Ave_Perm_Phi_KG_\"+items+\".csv\"\n",
    "    armse_KG=\"ARMSE_KG_\"+items+\".csv\"\n",
    "    armse_phi_KG=\"ARMSE_Phi_KG_\"+items+\".csv\"\n",
    "    std_perm_KG=\"STD_Perm_KG_\"+items+\".csv\"\n",
    "    std_perm_phi_KG=\"STD_Perm_Phi_KG_\"+items+\".csv\"\n",
    "    rmse_std_KG=\"RMSE_std_KG_\"+items+\".csv\"\n",
    "    rmse_std_phi_KG=\"RMSE_std_Phi_KG_\"+items+\".csv\"\n",
    "    \n",
    "    ave_perm_KG_Pred=\"Ave_Perm_KG_\"+items+\"_Pred\"+\".csv\"\n",
    "    ave_perm_phi_KG_Pred=\"Ave_Perm_Phi_KG_\"+items+\"_Pred\"+\".csv\"\n",
    "    armse_KG_Pred=\"ARMSE_KG_\"+items+\"_Pred\"+\".csv\"\n",
    "    armse_phi_KG_Pred=\"ARMSE_Phi_KG_\"+items+\"_Pred\"+\".csv\"\n",
    "    std_perm_KG_Pred=\"STD_Perm_KG_\"+items+\"_Pred\"+\".csv\"\n",
    "    std_perm_phi_KG_Pred=\"STD_Perm_Phi_KG_\"+items+\"_Pred\"+\".csv\"\n",
    "    rmse_std_KG_Pred=\"RMSE_std_KG_\"+items+\"_Pred\"+\".csv\"\n",
    "    rmse_std_phi_KG_Pred=\"RMSE_std_Phi_KG_\"+items+\"_Pred\"+\".csv\"\n",
    "    \n",
    "    ave_perm_KG_I=\"Ave_Perm_KG_\"+items+\"_I1\"+\".csv\"\n",
    "    ave_perm_phi_KG_I=\"Ave_Perm_Phi_KG_\"+items+\"_I1\"+\".csv\"\n",
    "    armse_KG_I=\"ARMSE_KG_\"+items+\"_I1\"+\".csv\"\n",
    "    armse_phi_KG_I=\"ARMSE_Phi_KG_\"+items+\"_I1\"+\".csv\"\n",
    "    std_perm_KG_I=\"STD_Perm_KG_\"+items+\"_I1\"+\".csv\"\n",
    "    std_perm_phi_KG_I=\"STD_Perm_Phi_KG_\"+items+\"_I1\"+\".csv\"\n",
    "    rmse_std_KG_I=\"RMSE_std_KG_\"+items+\"_I1\"+\".csv\"\n",
    "    rmse_std_phi_KG_I=\"RMSE_std_Phi_KG_\"+items+\"_I1\"+\".csv\"\n",
    "    \n",
    "    \n",
    "    Realization_Feat[\"Ave_Perm_KG_\"+items]=pd.read_csv(ave_perm_KG,header=None)[0]\n",
    "    Realization_Feat[\"Ave_Perm_Phi_KG_\"+items]=pd.read_csv(ave_perm_phi_KG,header=None)[0]\n",
    "    Realization_Feat[\"ARMSE_KG_\"+items]=pd.read_csv(armse_KG,header=None)[0]\n",
    "    Realization_Feat[\"ARMSE_Phi_KG_\"+items]=pd.read_csv(armse_phi_KG,header=None)[0]\n",
    "    Realization_Feat[\"STD_Perm_KG_\"+items]=pd.read_csv(std_perm_KG,header=None)[0]\n",
    "    Realization_Feat[\"STD_Perm_Phi_KG_\"+items]=pd.read_csv(std_perm_phi_KG,header=None)[0]\n",
    "    Realization_Feat[\"RMSE_std_KG_\"+items]=pd.read_csv(rmse_std_KG,header=None)[0]\n",
    "    Realization_Feat[\"RMSE_std_Phi_KG_\"+items]=pd.read_csv(rmse_std_phi_KG,header=None)[0]\n",
    "\n",
    "    Realization_Feat[\"Ave_Perm_KG_\"+items+\"_Pred\"]=pd.read_csv(ave_perm_KG_Pred,header=None)[0]\n",
    "    Realization_Feat[\"Ave_Perm_Phi_KG_\"+items+\"_Pred\"]=pd.read_csv(ave_perm_phi_KG_Pred,header=None)[0]\n",
    "    Realization_Feat[\"ARMSE_KG_\"+items+\"_Pred\"]=pd.read_csv(armse_KG_Pred,header=None)[0]\n",
    "    Realization_Feat[\"ARMSE_Phi_KG_\"+items+\"_Pred\"]=pd.read_csv(armse_phi_KG_Pred,header=None)[0]\n",
    "    Realization_Feat[\"STD_Perm_KG_\"+items+\"_Pred\"]=pd.read_csv(std_perm_KG_Pred,header=None)[0]\n",
    "    Realization_Feat[\"STD_Perm_Phi_KG_\"+items+\"_Pred\"]=pd.read_csv(std_perm_phi_KG_Pred,header=None)[0]\n",
    "    Realization_Feat[\"RMSE_std_KG_\"+items+\"_Pred\"]=pd.read_csv(rmse_std_KG_Pred,header=None)[0]\n",
    "    Realization_Feat[\"RMSE_std_Phi_KG_\"+items+\"_Pred\"]=pd.read_csv(rmse_std_phi_KG_Pred,header=None)[0]\n",
    "    \n",
    "    Realization_Feat[\"Ave_Perm_KG_\"+items+\"_I1\"]=pd.read_csv(ave_perm_KG_I,header=None)[0]\n",
    "    Realization_Feat[\"Ave_Perm_Phi_KG_\"+items+\"_I1\"]=pd.read_csv(ave_perm_phi_KG_I,header=None)[0]\n",
    "    Realization_Feat[\"ARMSE_KG_\"+items+\"_I1\"]=pd.read_csv(armse_KG_I,header=None)[0]\n",
    "    Realization_Feat[\"ARMSE_Phi_KG_\"+items+\"_I1\"]=pd.read_csv(armse_phi_KG_I,header=None)[0]\n",
    "    Realization_Feat[\"STD_Perm_KG_\"+items+\"_I1\"]=pd.read_csv(std_perm_KG_I,header=None)[0]\n",
    "    Realization_Feat[\"STD_Perm_Phi_KG_\"+items+\"_I1\"]=pd.read_csv(std_perm_phi_KG_I,header=None)[0]\n",
    "    Realization_Feat[\"RMSE_std_KG_\"+items+\"_I1\"]=pd.read_csv(rmse_std_KG_I,header=None)[0]\n",
    "    Realization_Feat[\"RMSE_std_Phi_KG_\"+items+\"_I1\"]=pd.read_csv(rmse_std_phi_KG_I,header=None)[0]\n",
    "\n",
    "\n",
    "Realization_Feat[\"Ave_Perm_KG_\"+\"I1\"+\"_Pred\"]=pd.read_csv(\"Ave_Perm_KG_I1_Pred.csv\",header=None)[0]\n",
    "Realization_Feat[\"Ave_Perm_Phi_KG_\"+\"I1\"+\"_Pred\"]=pd.read_csv(\"Ave_Perm_Phi_KG_I1_Pred.csv\",header=None)[0]\n",
    "Realization_Feat[\"ARMSE_KG_\"+\"I1\"+\"_Pred\"]=pd.read_csv(\"ARMSE_KG_I1_Pred.csv\",header=None)[0]\n",
    "Realization_Feat[\"ARMSE_Phi_KG_\"+\"I1\"+\"_Pred\"]=pd.read_csv(\"ARMSE_Phi_KG_I1_Pred.csv\",header=None)[0]\n",
    "Realization_Feat[\"STD_Perm_KG_\"+\"I1\"+\"_Pred\"]=pd.read_csv(\"STD_Perm_KG_I1_Pred.csv\",header=None)[0]\n",
    "Realization_Feat[\"STD_Perm_Phi_KG_\"+\"I1\"+\"_Pred\"]=pd.read_csv(\"STD_Perm_Phi_KG_I1_Pred.csv\",header=None)[0]\n",
    "Realization_Feat[\"RMSE_std_KG_\"+\"I1\"+\"_Pred\"]=pd.read_csv(\"RMSE_std_KG_I1_Pred.csv\",header=None)[0]\n",
    "Realization_Feat[\"RMSE_std_Phi_KG_\"+\"I1\"+\"_Pred\"]=pd.read_csv(\"RMSE_std_Phi_KG_I1_Pred.csv\",header=None)[0]\n",
    "\n",
    "Realization_Feat[\"Ave_Perm_KG_50_02_I1\"]=pd.read_csv(\"Ave_Perm_KG_50_02_I1.csv\",header=None)[0]\n",
    "Realization_Feat[\"Ave_Perm_Phi_KG_50_02_I1\"]=pd.read_csv(\"Ave_Perm_Phi_KG_50_02_I1.csv\",header=None)[0]\n",
    "Realization_Feat[\"ARMSE_KG_50_02_I1\"]=pd.read_csv(\"ARMSE_KG_50_02_I1.csv\",header=None)[0]\n",
    "Realization_Feat[\"ARMSE_Phi_KG_50_02_I1\"]=pd.read_csv(\"ARMSE_Phi_KG_50_02_I1.csv\",header=None)[0]\n",
    "Realization_Feat[\"STD_Perm_KG_50_02_I1\"]=pd.read_csv(\"STD_Perm_KG_50_02_I1.csv\",header=None)[0]\n",
    "Realization_Feat[\"STD_Perm_Phi_KG_50_02_I1\"]=pd.read_csv(\"STD_Perm_Phi_KG_50_02_I1.csv\",header=None)[0]\n",
    "Realization_Feat[\"RMSE_std_KG_50_02_I1\"]=pd.read_csv(\"RMSE_std_KG_50_02_I1.csv\",header=None)[0]\n",
    "Realization_Feat[\"RMSE_std_Phi_KG_50_02_I1\"]=pd.read_csv(\"RMSE_std_Phi_KG_50_02_I1.csv\",header=None)[0]\n",
    "\n",
    "Realization_Feat[\"Ave_Perm_KG_56_02_I1\"]=pd.read_csv(\"Ave_Perm_KG_56_02_I1.csv\",header=None)[0]\n",
    "Realization_Feat[\"Ave_Perm_Phi_KG_56_02_I1\"]=pd.read_csv(\"Ave_Perm_Phi_KG_56_02_I1.csv\",header=None)[0]\n",
    "Realization_Feat[\"ARMSE_KG_56_02_I1\"]=pd.read_csv(\"ARMSE_KG_56_02_I1.csv\",header=None)[0]\n",
    "Realization_Feat[\"ARMSE_Phi_KG_56_02_I1\"]=pd.read_csv(\"ARMSE_Phi_KG_56_02_I1.csv\",header=None)[0]\n",
    "Realization_Feat[\"STD_Perm_KG_56_02_I1\"]=pd.read_csv(\"STD_Perm_KG_56_02_I1.csv\",header=None)[0]\n",
    "Realization_Feat[\"STD_Perm_Phi_KG_56_02_I1\"]=pd.read_csv(\"STD_Perm_Phi_KG_56_02_I1.csv\",header=None)[0]\n",
    "Realization_Feat[\"RMSE_std_KG_56_02_I1\"]=pd.read_csv(\"RMSE_std_KG_56_02_I1.csv\",header=None)[0]\n",
    "Realization_Feat[\"RMSE_std_Phi_KG_56_02_I1\"]=pd.read_csv(\"RMSE_std_Phi_KG_56_02_I1.csv\",header=None)[0]\n",
    "    \n",
    "Realization_Feat[\"variog\"]=np.zeros([400,1])\n",
    "for i in range(0,100):\n",
    "    Realization_Feat[\"variog\"][i]=1\n",
    "    Realization_Feat[\"variog\"][i+101]=2\n",
    "    Realization_Feat[\"variog\"][i+201]=3\n",
    "    Realization_Feat[\"variog\"][i+300]=4\n",
    "    Realization_Feat[\"variog\"][100]=1\n",
    "    Realization_Feat[\"variog\"][300]=3\n",
    "\n",
    "Realization_Feat.to_csv(\"Realization_Feat_Pred.csv\")\n",
    "a=pd.read_csv(\"Prediction_bu_ML.csv\" , header=None)\n",
    "Selected_Realizations_Features_by_ML=Realization_Feat.loc[list(a[a[0]==1].index)]\n",
    "Selected_Realizations_Features_by_ML.to_csv(\"Selected_Realizations_Features_by_ML.csv\")"
   ]
  },
  {
   "cell_type": "code",
   "execution_count": 24,
   "id": "0e5d74bb",
   "metadata": {},
   "outputs": [],
   "source": [
    "m=0\n",
    "Distance_matrix=np.zeros([231,231])\n",
    "for item in list(a[a[0]==1].index):\n",
    "    n=0\n",
    "    for j in list(a[a[0]==1].index):\n",
    "        Distance_matrix[m,n]=np.sqrt(np.array((Selected_Realizations_Features_by_ML.loc[item]-Selected_Realizations_Features_by_ML.loc[j])**2).sum())\n",
    "        n+=1\n",
    "    m+=1    "
   ]
  },
  {
   "cell_type": "code",
   "execution_count": 25,
   "id": "609595bd",
   "metadata": {},
   "outputs": [],
   "source": [
    "a=[]\n",
    "for n in range(2,15):\n",
    "    corr=0\n",
    "    MDS_dis_mat=np.zeros([231,231])\n",
    "    from sklearn.manifold import MDS\n",
    "    embedding = MDS(n_components=n)\n",
    "    X_transformed = embedding.fit_transform(Selected_Realizations_Features_by_ML)\n",
    "    #scaler.fit(X_transformed)\n",
    "    #scaled=scaler.transform(X_transformed)\n",
    "    for i in range(0,231):\n",
    "        for k in range(0,231):\n",
    "            MDS_dis_mat[i,k]=np.sqrt(((X_transformed[i]-X_transformed[k])**2).sum())\n",
    "    \n",
    "    corr_matrix = np.corrcoef(Distance_matrix, MDS_dis_mat)\n",
    "    for i in range(0,231):\n",
    "        corr += corr_matrix[i,i+230]\n",
    "    Ave_corr=corr/231\n",
    "    R_sq = Ave_corr**2\n",
    "    a.append(R_sq)"
   ]
  },
  {
   "cell_type": "code",
   "execution_count": 26,
   "id": "ecb1c888",
   "metadata": {},
   "outputs": [
    {
     "data": {
      "text/plain": [
       "<matplotlib.collections.PathCollection at 0xc5d7a60>"
      ]
     },
     "execution_count": 26,
     "metadata": {},
     "output_type": "execute_result"
    },
    {
     "data": {
      "image/png": "[encoded data removed]",
      "text/plain": [
       "<Figure size 432x288 with 1 Axes>"
      ]
     },
     "metadata": {
      "needs_background": "light"
     },
     "output_type": "display_data"
    }
   ],
   "source": [
    "plt.scatter(range(2,15),a)"
   ]
  },
  {
   "cell_type": "code",
   "execution_count": 27,
   "id": "3e4ada38",
   "metadata": {},
   "outputs": [],
   "source": [
    "embedding_opt = MDS(n_components=8)\n",
    "X_transformed_opt_by_ML = embedding_opt.fit_transform(Selected_Realizations_Features_by_ML)"
   ]
  },
  {
   "cell_type": "code",
   "execution_count": 28,
   "id": "c0d6c400",
   "metadata": {},
   "outputs": [
    {
     "name": "stderr",
     "output_type": "stream",
     "text": [
      "C:\\Users\\kmonfaredi\\Anaconda3\\lib\\site-packages\\sklearn\\cluster\\_kmeans.py:881: UserWarning: KMeans is known to have a memory leak on Windows with MKL, when there are less chunks than available threads. You can avoid it by setting the environment variable OMP_NUM_THREADS=1.\n",
      "  warnings.warn(\n"
     ]
    },
    {
     "data": {
      "text/plain": [
       "Text(0, 0.5, 'WCSS')"
      ]
     },
     "execution_count": 28,
     "metadata": {},
     "output_type": "execute_result"
    },
    {
     "data": {
      "image/png": "[encoded data removed]",
      "text/plain": [
       "<Figure size 432x288 with 1 Axes>"
      ]
     },
     "metadata": {
      "needs_background": "light"
     },
     "output_type": "display_data"
    }
   ],
   "source": [
    "from sklearn.cluster import KMeans\n",
    "wcss=[]\n",
    "for i in range(1,50):\n",
    "    kmeans = KMeans(i)\n",
    "    kmeans.fit(X_transformed_opt_by_ML)\n",
    "    wcss_iter = kmeans.inertia_\n",
    "    wcss.append(wcss_iter)\n",
    "\n",
    "number_clusters = range(1,50)\n",
    "plt.plot(number_clusters,wcss)\n",
    "plt.title('The Elbow title')\n",
    "plt.xlabel('Number of clusters')\n",
    "plt.ylabel('WCSS')"
   ]
  },
  {
   "cell_type": "code",
   "execution_count": 101,
   "id": "f91991d9",
   "metadata": {},
   "outputs": [],
   "source": [
    "from sklearn.cluster import KMeans\n",
    "kmeans=KMeans(n_clusters=15)\n",
    "kmeans.fit(X_transformed_opt_by_ML)\n",
    "a_by_ML=kmeans.labels_\n",
    "b_by_ML=kmeans.get_params"
   ]
  },
  {
   "cell_type": "code",
   "execution_count": 102,
   "id": "cc731571",
   "metadata": {},
   "outputs": [],
   "source": [
    "selected_realizations_groups_by_ML=pd.read_csv(\"Selected_Realization_by_ML.csv\" , header=None)\n",
    "selected_realizations_groups_by_ML[\"Group_by_ML\"]=a_by_ML"
   ]
  },
  {
   "cell_type": "code",
   "execution_count": 103,
   "id": "a53a4aa8",
   "metadata": {},
   "outputs": [],
   "source": [
    "X_trans_opt_by_ML_df=pd.DataFrame(X_transformed_opt_by_ML , index=selected_realizations_groups_by_ML[0])"
   ]
  },
  {
   "cell_type": "code",
   "execution_count": 104,
   "id": "e5ebe57e",
   "metadata": {},
   "outputs": [
    {
     "name": "stdout",
     "output_type": "stream",
     "text": [
      "[343, 44, 126, 347, 337, 32, 388, 221, 384, 37, 377, 199, 1, 97, 363]\n"
     ]
    }
   ],
   "source": [
    "\n",
    "b=[]\n",
    "for cluster in range(0,15):\n",
    "    real_num=np.array(selected_realizations_groups_by_ML[selected_realizations_groups_by_ML[\"Group_by_ML\"]==cluster][0])\n",
    "    X_trans_cluster=np.array(X_trans_opt_by_ML_df.loc[real_num])\n",
    "    dist=np.ones([1,X_trans_cluster.shape[0]])\n",
    "    for items in range(0,X_trans_cluster.shape[0]):\n",
    "        for realization in range(0,X_trans_cluster.shape[0]):\n",
    "            dist[0,items]+=np.sqrt(((X_trans_cluster[items]-X_trans_cluster[realization])**2).sum())\n",
    "    b.append(real_num[dist.argmin()])\n",
    "print(b)"
   ]
  },
  {
   "cell_type": "code",
   "execution_count": 99,
   "id": "1090bd87",
   "metadata": {},
   "outputs": [
    {
     "data": {
      "text/plain": [
       "array([ 0,  1,  1,  1,  1,  1,  1,  1,  1,  1,  1,  1,  1,  1,  1,  1,  1,\n",
       "        1,  2,  1,  3,  1,  1,  1,  1,  1,  1,  1,  1,  1,  1,  1,  1,  1,\n",
       "        1,  1,  1,  1,  1,  1,  1,  1,  1,  1,  1,  1,  1,  1,  1,  1,  1,\n",
       "        1,  1,  4,  1,  1,  1,  1,  1,  1,  1,  1,  1,  1,  1,  1,  1,  1,\n",
       "        1,  1,  1,  1,  1,  1,  1,  1,  1,  1,  1,  5,  1,  1,  1,  1,  1,\n",
       "        1,  1,  6,  7,  1,  8,  1,  1,  1,  1,  1,  1,  1,  1,  1,  1,  1,\n",
       "        1,  1,  1,  1,  1,  1,  1,  1,  1,  1,  9,  1,  1,  1,  1,  1,  1,\n",
       "        1,  1,  1,  1,  1,  1,  1,  1,  1,  7,  1, 10,  1,  1,  1,  1,  1,\n",
       "        1,  1,  1,  1,  1,  1,  1,  1,  1,  1,  1,  1,  1,  1,  1,  1,  1,\n",
       "        1,  1,  1,  1,  1,  1, 11,  1,  1,  1,  1,  1,  1,  1,  1,  1,  1,\n",
       "        1,  1,  1,  1,  1,  1,  1,  1,  1,  1,  7,  1,  1,  1,  1,  1,  1,\n",
       "        7,  1,  1,  1,  1,  1, 12,  1, 13,  1,  1,  1,  1,  1,  1,  1,  1,\n",
       "        1,  1,  1,  1, 14,  1,  1,  1,  1,  1,  1,  1,  1,  1,  1,  1,  1,\n",
       "        7,  1,  1,  1,  7,  1,  1,  1,  1,  1], dtype=int64)"
      ]
     },
     "execution_count": 99,
     "metadata": {},
     "output_type": "execute_result"
    }
   ],
   "source": [
    "from sklearn.cluster import DBSCAN\n",
    "dbscan=DBSCAN(eps=405500000, min_samples=1, )\n",
    "a=dbscan.fit(X_transformed_opt_by_ML)\n",
    "a_by_ML=list(a.labels_)\n",
    "a.labels_"
   ]
  },
  {
   "cell_type": "code",
   "execution_count": 100,
   "id": "d1b72b1f",
   "metadata": {},
   "outputs": [
    {
     "name": "stdout",
     "output_type": "stream",
     "text": [
      "[1, 193, 32, 37, 97, 139, 155, 388, 164, 209, 236, 285, 341, 344, 363]\n"
     ]
    }
   ],
   "source": [
    "selected_realizations_groups_by_ML=pd.read_csv(\"Selected_Realization_by_ML.csv\" , header=None)\n",
    "selected_realizations_groups_by_ML[\"Group_by_ML\"]=a_by_ML\n",
    "X_trans_opt_by_ML_df=pd.DataFrame(X_transformed_opt_by_ML , index=selected_realizations_groups_by_ML[0])\n",
    "b=[]\n",
    "for cluster in range(0,15):\n",
    "    real_num=np.array(selected_realizations_groups_by_ML[selected_realizations_groups_by_ML[\"Group_by_ML\"]==cluster][0])\n",
    "    X_trans_cluster=np.array(X_trans_opt_by_ML_df.loc[real_num])\n",
    "    dist=np.ones([1,X_trans_cluster.shape[0]])\n",
    "    for items in range(0,X_trans_cluster.shape[0]):\n",
    "        for realization in range(0,X_trans_cluster.shape[0]):\n",
    "            dist[0,items]+=np.sqrt(((X_trans_cluster[items]-X_trans_cluster[realization])**2).sum())\n",
    "    b.append(real_num[dist.argmin()])\n",
    "print(b)"
   ]
  },
  {
   "cell_type": "code",
   "execution_count": 45,
   "id": "b26c74e3",
   "metadata": {},
   "outputs": [
    {
     "name": "stdout",
     "output_type": "stream",
     "text": [
      "[187, 12, 20, 126, 1, 332, 325, 209, 237, 92, 97, 37, 32, 295, 344]\n"
     ]
    }
   ],
   "source": [
    "X=np.array([[231],[8]])\n",
    "from sklearn.cluster import kmeans_plusplus\n",
    "kmeans_plus=kmeans_plusplus(X_transformed_opt_by_ML,n_clusters=15)\n",
    "bb=np.array(selected_realizations_groups_by_ML.loc[kmeans_plus[1]][0])\n",
    "print(list(bb))"
   ]
  },
  {
   "cell_type": "code",
   "execution_count": 46,
   "id": "3b29c8a8",
   "metadata": {},
   "outputs": [
    {
     "name": "stdout",
     "output_type": "stream",
     "text": [
      "[346, 234, 349, 350, 253, 31, 12, 24, 352, 182, 99, 23, 306, 337, 200]\n"
     ]
    }
   ],
   "source": [
    "\n",
    "from sklearn_extra.cluster import KMedoids\n",
    "kmedoids=KMedoids(n_clusters=15)\n",
    "kmedoids.fit(X_transformed_opt_by_ML)\n",
    "cc=np.array(selected_realizations_groups_by_ML.loc[kmedoids.medoid_indices_][0])\n",
    "print(list(cc))"
   ]
  },
  {
   "cell_type": "code",
   "execution_count": 110,
   "id": "ae48129d",
   "metadata": {},
   "outputs": [
    {
     "data": {
      "text/plain": [
       "[1, 32, 37, 44, 97, 126, 199, 221, 337, 343, 347, 363, 377, 384, 388]"
      ]
     },
     "execution_count": 110,
     "metadata": {},
     "output_type": "execute_result"
    }
   ],
   "source": [
    "b\n"
   ]
  }
 ],
 "metadata": {
  "kernelspec": {
   "display_name": "Python 3",
   "language": "python",
   "name": "python3"
  },
  "language_info": {
   "codemirror_mode": {
    "name": "ipython",
    "version": 3
   },
   "file_extension": ".py",
   "mimetype": "text/x-python",
   "name": "python",
   "nbconvert_exporter": "python",
   "pygments_lexer": "ipython3",
   "version": "3.8.8"
  }
 },
 "nbformat": 4,
 "nbformat_minor": 5
}
