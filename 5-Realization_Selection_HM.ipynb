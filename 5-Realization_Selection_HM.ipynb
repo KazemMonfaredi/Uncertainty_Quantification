{
 "cells": [
  {
   "cell_type": "code",
   "execution_count": 1,
   "id": "a1879154",
   "metadata": {},
   "outputs": [],
   "source": [
    "import pandas as pd\n",
    "import numpy as np"
   ]
  },
  {
   "cell_type": "code",
   "execution_count": 2,
   "id": "ac293e11",
   "metadata": {},
   "outputs": [],
   "source": [
    "WOPR_KG_02_mat=pd.read_csv(\"WOPR_KG_02_Diff.csv\", header=None)\n",
    "WOPR_KG_04_mat=pd.read_csv(\"WOPR_KG_04_Diff.csv\", header=None)\n",
    "WOPR_KG_50_mat=pd.read_csv(\"WOPR_KG_50_Diff.csv\", header=None)\n",
    "WOPR_KG_56_mat=pd.read_csv(\"WOPR_KG_56_Diff.csv\", header=None)\n",
    "WOPR_KG_58_mat=pd.read_csv(\"WOPR_KG_58_Diff.csv\", header=None)\n",
    "\n",
    "WGPR_KG_02_mat=pd.read_csv(\"WGPR_KG_02_Diff.csv\", header=None)\n",
    "WGPR_KG_04_mat=pd.read_csv(\"WGPR_KG_04_Diff.csv\", header=None)\n",
    "WGPR_KG_50_mat=pd.read_csv(\"WGPR_KG_50_Diff.csv\", header=None)\n",
    "WGPR_KG_56_mat=pd.read_csv(\"WGPR_KG_56_Diff.csv\", header=None)\n",
    "WGPR_KG_58_mat=pd.read_csv(\"WGPR_KG_58_Diff.csv\", header=None)\n",
    "\n",
    "WBP9_KG_02_mat=pd.read_csv(\"WBP9_KG_02_Diff.csv\", header=None)\n",
    "WBP9_KG_04_mat=pd.read_csv(\"WBP9_KG_04_Diff.csv\", header=None)\n",
    "WBP9_KG_50_mat=pd.read_csv(\"WBP9_KG_50_Diff.csv\", header=None)\n",
    "WBP9_KG_56_mat=pd.read_csv(\"WBP9_KG_56_Diff.csv\", header=None)\n",
    "WBP9_KG_58_mat=pd.read_csv(\"WBP9_KG_58_Diff.csv\", header=None)"
   ]
  },
  {
   "cell_type": "code",
   "execution_count": 5,
   "id": "3fd92c0d",
   "metadata": {},
   "outputs": [
    {
     "data": {
      "text/plain": [
       "(50, 57, 61, 61, 61, 57, 60, 61, 61, 61, 38, 53, 60, 60, 60)"
      ]
     },
     "execution_count": 5,
     "metadata": {},
     "output_type": "execute_result"
    }
   ],
   "source": [
    "a=(WOPR_KG_02_mat.abs().sum())/550\n",
    "b=(WOPR_KG_04_mat.abs().sum())/550\n",
    "c=(WOPR_KG_50_mat.abs().sum())/550\n",
    "d=(WOPR_KG_56_mat.abs().sum())/550\n",
    "e=(WOPR_KG_58_mat.abs().sum())/550\n",
    "\n",
    "f=(WGPR_KG_02_mat.abs().sum())/550\n",
    "g=(WGPR_KG_04_mat.abs().sum())/550\n",
    "h=(WGPR_KG_50_mat.abs().sum())/550\n",
    "i=(WGPR_KG_56_mat.abs().sum())/550\n",
    "j=(WGPR_KG_58_mat.abs().sum())/550\n",
    "\n",
    "k=(WBP9_KG_02_mat.abs().sum())/550\n",
    "l=(WBP9_KG_04_mat.abs().sum())/550\n",
    "m=(WBP9_KG_50_mat.abs().sum())/550\n",
    "n=(WBP9_KG_56_mat.abs().sum())/550\n",
    "o=(WBP9_KG_58_mat.abs().sum())/550\n",
    "\n",
    "a1=list(a[a<=0.03].index)\n",
    "b1=list(b[b<=0.03].index)\n",
    "c1=list(c[c<=0.03].index)\n",
    "d1=list(d[d<=0.03].index)\n",
    "e1=list(e[e<=0.03].index)\n",
    "f1=list(f[f<=0.03].index)\n",
    "g1=list(g[g<=0.03].index)\n",
    "h1=list(h[h<=0.03].index)\n",
    "i1=list(i[i<=0.03].index)\n",
    "j1=list(j[j<=0.03].index)\n",
    "k1=list(k[k<=0.03].index)\n",
    "l1=list(l[l<=0.03].index)\n",
    "m1=list(m[m<=0.03].index)\n",
    "n1=list(n[n<=0.03].index)\n",
    "o1=list(o[o<=0.03].index)\n",
    "\n",
    "len(a1) , len(b1) , len(c1) , len(d1) , len(e1) , len(f1) , len(g1) , len(h1) , len(i1) , len(j1) , len(k1) , len(l1) , len(m1) , len(n1) , len(o1) "
   ]
  },
  {
   "cell_type": "code",
   "execution_count": 6,
   "id": "2d9ffd70",
   "metadata": {
    "scrolled": true
   },
   "outputs": [
    {
     "name": "stdout",
     "output_type": "stream",
     "text": [
      "36\n",
      "[0, 1, 4, 5, 6, 7, 9, 10, 11, 14, 15, 19, 21, 22, 25, 26, 27, 29, 31, 32, 34, 36, 37, 38, 39, 41, 44, 46, 47, 51, 52, 53, 54, 56, 58, 59]\n"
     ]
    }
   ],
   "source": [
    "v=[]\n",
    "realization_HM=[]\n",
    "for items in k1:\n",
    "    m=0\n",
    "    m+=(a1.count(items))\n",
    "    m+=(b1.count(items))\n",
    "    m+=(c1.count(items))\n",
    "    m+=(d1.count(items))\n",
    "    m+=(e1.count(items))\n",
    "    m+=(f1.count(items))\n",
    "    m+=(g1.count(items))\n",
    "    m+=(i1.count(items))\n",
    "    m+=(j1.count(items))\n",
    "    m+=(h1.count(items))\n",
    "    m+=(l1.count(items))\n",
    "    m+=(m1.count(items))\n",
    "    m+=(n1.count(items))\n",
    "    m+=(o1.count(items))\n",
    "    #print(m)\n",
    "    v.append(m)\n",
    "    if m==14:\n",
    "        realization_HM.append(items)\n",
    "print(v.count(14))\n",
    "print(realization_HM)"
   ]
  },
  {
   "cell_type": "code",
   "execution_count": 7,
   "id": "14400e90",
   "metadata": {},
   "outputs": [],
   "source": [
    "np.savetxt(\"Realization_HM.csv\" , realization_HM , delimiter =\", \", fmt ='% s') "
   ]
  },
  {
   "cell_type": "code",
   "execution_count": 20,
   "id": "f143efae",
   "metadata": {},
   "outputs": [],
   "source": [
    "Initial_Realizations=pd.read_csv(\"Initial_Real_For_ML\", header=None)\n",
    "Initial_Realizations[\"HM\"]=0\n",
    "for items in realization_HM:\n",
    "    if items>0:\n",
    "        Initial_Realizations[\"HM\"][items-1]=1\n",
    "np.savetxt(\"Initial_Realization_HM.csv\" , Initial_Realizations , delimiter =\", \", fmt ='% .0f') \n"
   ]
  }
 ],
 "metadata": {
  "kernelspec": {
   "display_name": "Python 3",
   "language": "python",
   "name": "python3"
  },
  "language_info": {
   "codemirror_mode": {
    "name": "ipython",
    "version": 3
   },
   "file_extension": ".py",
   "mimetype": "text/x-python",
   "name": "python",
   "nbconvert_exporter": "python",
   "pygments_lexer": "ipython3",
   "version": "3.8.8"
  }
 },
 "nbformat": 4,
 "nbformat_minor": 5
}
