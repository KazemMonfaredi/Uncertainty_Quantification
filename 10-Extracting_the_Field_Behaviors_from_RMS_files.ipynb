{
 "cells": [
  {
   "cell_type": "code",
   "execution_count": 2,
   "id": "7d738209",
   "metadata": {},
   "outputs": [],
   "source": [
    "import pandas as pd\n",
    "import numpy as np\n",
    "Real_ML=[\"1\",\"32\",\"37\",\"44\",\"97\",\"126\",\"199\",\"221\",\"337\",\"343\",\"347\",\"363\",\"377\",\"384\",\"388\"]\n",
    "Days=list(pd.read_csv(\"Days\", header=None)[0])\n"
   ]
  },
  {
   "cell_type": "code",
   "execution_count": 3,
   "id": "062b60b0",
   "metadata": {
    "scrolled": false
   },
   "outputs": [
    {
     "name": "stderr",
     "output_type": "stream",
     "text": [
      "C:\\Users\\kmonfaredi\\Anaconda3\\lib\\site-packages\\IPython\\core\\interactiveshell.py:3165: DtypeWarning: Columns (7,8,9,10) have mixed types.Specify dtype option on import or set low_memory=False.\n",
      "  has_raised = await self.run_ast_nodes(code_ast.body, cell_name,\n"
     ]
    }
   ],
   "source": [
    "## Extracting the Wells Behavior\n",
    "indx=[]\n",
    "indx_BP9=[]\n",
    "indx_GPR=[]\n",
    "FOPT_KG=[]\n",
    "FGPT_KG=[]\n",
    "FPR_KG=[]\n",
    "\n",
    "m=0\n",
    "for item in Real_ML:\n",
    "    name=[str(item),\".RSM\"]\n",
    "    names=\"\".join(name)\n",
    "    a=pd.read_table(names, header=None)\n",
    "\n",
    "    w=(a[a[4]=='WOPR        '].index.tolist())\n",
    "    index1=[]\n",
    "    for i in Days:\n",
    "        index1.append(a[a[1]==str(i)].index.tolist())\n",
    "    for j in range(0,len(Days)):\n",
    "        indx.append(index1[j][16])\n",
    "        indx_BP9.append(index1[j][18])\n",
    "        indx_GPR.append(index1[j][17])   \n",
    "    for k in indx[len(Days)*m:len(Days)*m+len(Days)]:\n",
    "        FOPT_KG.append(float(a[4][k]))\n",
    "\n",
    "    for q in indx_BP9[len(Days)*m:len(Days)*m+len(Days)]:\n",
    "        FPR_KG.append(float(a[6][q]))\n",
    "\n",
    "    for s in indx_GPR[len(Days)*m:len(Days)*m+len(Days)]:\n",
    "        FGPT_KG.append(float(a[5][s]))\n",
    "\n",
    "    m+=1\n",
    "#WOPR1=np.reshape(WOPR1,(item+1,len(b)))\n",
    "#WOPR2=np.reshape(WOPR2,(item+1,len(b)))\n",
    "#WOPR3=np.reshape(WOPR3,(item+1,len(b)))\n",
    "#WGPR1=np.reshape(WGPR1,(item+1,len(b)))\n",
    "#WGPR2=np.reshape(WGPR2,(item+1,len(b)))\n",
    "#WGPR3=np.reshape(WGPR3,(item+1,len(b)))\n",
    "#WBP9_1=np.reshape(WOPR1,(item+1,len(b)))\n",
    "#WBP9_2=np.reshape(WOPR2,(item+1,len(b)))\n",
    "#WBP9_3=np.reshape(WOPR3,(item+1,len(b)))"
   ]
  },
  {
   "cell_type": "code",
   "execution_count": 4,
   "id": "58d629ca",
   "metadata": {
    "scrolled": true
   },
   "outputs": [],
   "source": [
    "FOPT_KG=np.transpose(np.reshape(FOPT_KG,(15,len(Days))))\n",
    "\n",
    "FGPT_KG=np.transpose(np.reshape(FGPT_KG,(15,len(Days))))\n",
    "\n",
    "FPR_KG=np.transpose(np.reshape(FPR_KG,(15,len(Days))))\n",
    "\n",
    "np.savetxt(\"FOPT_KG.csv\" , FOPT_KG , delimiter =\", \", fmt ='% s') \n",
    "\n",
    "np.savetxt(\"FGPT_KG.csv\" , FGPT_KG , delimiter =\", \", fmt ='% s') \n",
    "\n",
    "np.savetxt(\"FPR_KG.csv\" , FPR_KG , delimiter =\", \", fmt ='% s') \n"
   ]
  },
  {
   "cell_type": "code",
   "execution_count": null,
   "id": "ee82e451",
   "metadata": {},
   "outputs": [],
   "source": []
  },
  {
   "cell_type": "code",
   "execution_count": null,
   "id": "98066ad0",
   "metadata": {},
   "outputs": [],
   "source": []
  }
 ],
 "metadata": {
  "kernelspec": {
   "display_name": "Python 3",
   "language": "python",
   "name": "python3"
  },
  "language_info": {
   "codemirror_mode": {
    "name": "ipython",
    "version": 3
   },
   "file_extension": ".py",
   "mimetype": "text/x-python",
   "name": "python",
   "nbconvert_exporter": "python",
   "pygments_lexer": "ipython3",
   "version": "3.8.8"
  }
 },
 "nbformat": 4,
 "nbformat_minor": 5
}
